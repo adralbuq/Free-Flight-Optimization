{
  "nbformat": 4,
  "nbformat_minor": 0,
  "metadata": {
    "colab": {
      "provenance": [],
      "authorship_tag": "ABX9TyPoF3u8IAMEw7u8XNy62Tfk",
      "include_colab_link": true
    },
    "kernelspec": {
      "name": "python3",
      "display_name": "Python 3"
    },
    "language_info": {
      "name": "python"
    }
  },
  "cells": [
    {
      "cell_type": "markdown",
      "metadata": {
        "id": "view-in-github",
        "colab_type": "text"
      },
      "source": [
        "<a href=\"https://colab.research.google.com/github/adralbuq/Free-Flight-Optimization/blob/main/Free_Flight_Optimization_(Otimiza%C3%A7%C3%A3o_de_voo_livre)_Projeto_Final.ipynb\" target=\"_parent\"><img src=\"https://colab.research.google.com/assets/colab-badge.svg\" alt=\"Open In Colab\"/></a>"
      ]
    },
    {
      "cell_type": "code",
      "source": [
        "!pip install deap"
      ],
      "metadata": {
        "colab": {
          "base_uri": "https://localhost:8080/",
          "height": 0
        },
        "id": "SCcmIyxG1W1m",
        "outputId": "f9291fe0-5a28-41dd-904e-efaac87fd516"
      },
      "execution_count": 69,
      "outputs": [
        {
          "output_type": "stream",
          "name": "stdout",
          "text": [
            "Looking in indexes: https://pypi.org/simple, https://us-python.pkg.dev/colab-wheels/public/simple/\n",
            "Requirement already satisfied: deap in /usr/local/lib/python3.7/dist-packages (1.3.3)\n",
            "Requirement already satisfied: numpy in /usr/local/lib/python3.7/dist-packages (from deap) (1.21.6)\n"
          ]
        }
      ]
    },
    {
      "cell_type": "code",
      "source": [
        "import pandas as pd\n",
        "import random\n",
        "from deap import base\n",
        "from deap import creator\n",
        "from deap import tools"
      ],
      "metadata": {
        "id": "0fLmMUTX6Gbc"
      },
      "execution_count": 70,
      "outputs": []
    },
    {
      "cell_type": "code",
      "source": [
        "df = pd.read_excel('/content/Condicoes_para_voo.xlsx')\n",
        "df"
      ],
      "metadata": {
        "id": "xedFddP735nT",
        "colab": {
          "base_uri": "https://localhost:8080/",
          "height": 488
        },
        "outputId": "f83b5295-1a94-4e70-c391-97eb60a7b90f"
      },
      "execution_count": 71,
      "outputs": [
        {
          "output_type": "execute_result",
          "data": {
            "text/plain": [
              "   Tabela 1 - Veloc. do Vento    e Condições para              Voo Livre\n",
              "0                         m/s           Designação                Status\n",
              "1                  0 - 0.2...             Calmaria        Vento perfeito\n",
              "2             0.3... - 1.5...          Aragem leve        Vento perfeito\n",
              "3             1.6... - 3.3...           Brisa leve        Vento perfeito\n",
              "4             3.4... - 5.4...          Brisa suave        Vento perfeito\n",
              "5             5.5... - 7.9...       Brisa moderada    Condição não ideal\n",
              "6            8.0... - 10.7...         Brisa fresca    Condição não ideal\n",
              "7           10.8... - 13.8...          Brisa forte    Condição não ideal\n",
              "8           13.9... - 17.1...     Vendaval próximo  Sem condições de voo\n",
              "9           17.2... - 20.7...             Vendaval  Sem condições de voo\n",
              "10          20.8... - 24.4...       Vendaval forte  Sem condições de voo\n",
              "11          24.5... - 28.4...   Tempestade intensa  Sem condições de voo\n",
              "12          28.5... - 32.6...  Tempestade violenta  Sem condições de voo\n",
              "13                  > 32.7...              Furacão  Sem condições de voo"
            ],
            "text/html": [
              "\n",
              "  <div id=\"df-a53d7142-7ed7-4816-a111-bce83b52d404\">\n",
              "    <div class=\"colab-df-container\">\n",
              "      <div>\n",
              "<style scoped>\n",
              "    .dataframe tbody tr th:only-of-type {\n",
              "        vertical-align: middle;\n",
              "    }\n",
              "\n",
              "    .dataframe tbody tr th {\n",
              "        vertical-align: top;\n",
              "    }\n",
              "\n",
              "    .dataframe thead th {\n",
              "        text-align: right;\n",
              "    }\n",
              "</style>\n",
              "<table border=\"1\" class=\"dataframe\">\n",
              "  <thead>\n",
              "    <tr style=\"text-align: right;\">\n",
              "      <th></th>\n",
              "      <th>Tabela 1 - Veloc. do Vento</th>\n",
              "      <th>e Condições para</th>\n",
              "      <th>Voo Livre</th>\n",
              "    </tr>\n",
              "  </thead>\n",
              "  <tbody>\n",
              "    <tr>\n",
              "      <th>0</th>\n",
              "      <td>m/s</td>\n",
              "      <td>Designação</td>\n",
              "      <td>Status</td>\n",
              "    </tr>\n",
              "    <tr>\n",
              "      <th>1</th>\n",
              "      <td>0 - 0.2...</td>\n",
              "      <td>Calmaria</td>\n",
              "      <td>Vento perfeito</td>\n",
              "    </tr>\n",
              "    <tr>\n",
              "      <th>2</th>\n",
              "      <td>0.3... - 1.5...</td>\n",
              "      <td>Aragem leve</td>\n",
              "      <td>Vento perfeito</td>\n",
              "    </tr>\n",
              "    <tr>\n",
              "      <th>3</th>\n",
              "      <td>1.6... - 3.3...</td>\n",
              "      <td>Brisa leve</td>\n",
              "      <td>Vento perfeito</td>\n",
              "    </tr>\n",
              "    <tr>\n",
              "      <th>4</th>\n",
              "      <td>3.4... - 5.4...</td>\n",
              "      <td>Brisa suave</td>\n",
              "      <td>Vento perfeito</td>\n",
              "    </tr>\n",
              "    <tr>\n",
              "      <th>5</th>\n",
              "      <td>5.5... - 7.9...</td>\n",
              "      <td>Brisa moderada</td>\n",
              "      <td>Condição não ideal</td>\n",
              "    </tr>\n",
              "    <tr>\n",
              "      <th>6</th>\n",
              "      <td>8.0... - 10.7...</td>\n",
              "      <td>Brisa fresca</td>\n",
              "      <td>Condição não ideal</td>\n",
              "    </tr>\n",
              "    <tr>\n",
              "      <th>7</th>\n",
              "      <td>10.8... - 13.8...</td>\n",
              "      <td>Brisa forte</td>\n",
              "      <td>Condição não ideal</td>\n",
              "    </tr>\n",
              "    <tr>\n",
              "      <th>8</th>\n",
              "      <td>13.9... - 17.1...</td>\n",
              "      <td>Vendaval próximo</td>\n",
              "      <td>Sem condições de voo</td>\n",
              "    </tr>\n",
              "    <tr>\n",
              "      <th>9</th>\n",
              "      <td>17.2... - 20.7...</td>\n",
              "      <td>Vendaval</td>\n",
              "      <td>Sem condições de voo</td>\n",
              "    </tr>\n",
              "    <tr>\n",
              "      <th>10</th>\n",
              "      <td>20.8... - 24.4...</td>\n",
              "      <td>Vendaval forte</td>\n",
              "      <td>Sem condições de voo</td>\n",
              "    </tr>\n",
              "    <tr>\n",
              "      <th>11</th>\n",
              "      <td>24.5... - 28.4...</td>\n",
              "      <td>Tempestade intensa</td>\n",
              "      <td>Sem condições de voo</td>\n",
              "    </tr>\n",
              "    <tr>\n",
              "      <th>12</th>\n",
              "      <td>28.5... - 32.6...</td>\n",
              "      <td>Tempestade violenta</td>\n",
              "      <td>Sem condições de voo</td>\n",
              "    </tr>\n",
              "    <tr>\n",
              "      <th>13</th>\n",
              "      <td>&gt; 32.7...</td>\n",
              "      <td>Furacão</td>\n",
              "      <td>Sem condições de voo</td>\n",
              "    </tr>\n",
              "  </tbody>\n",
              "</table>\n",
              "</div>\n",
              "      <button class=\"colab-df-convert\" onclick=\"convertToInteractive('df-a53d7142-7ed7-4816-a111-bce83b52d404')\"\n",
              "              title=\"Convert this dataframe to an interactive table.\"\n",
              "              style=\"display:none;\">\n",
              "        \n",
              "  <svg xmlns=\"http://www.w3.org/2000/svg\" height=\"24px\"viewBox=\"0 0 24 24\"\n",
              "       width=\"24px\">\n",
              "    <path d=\"M0 0h24v24H0V0z\" fill=\"none\"/>\n",
              "    <path d=\"M18.56 5.44l.94 2.06.94-2.06 2.06-.94-2.06-.94-.94-2.06-.94 2.06-2.06.94zm-11 1L8.5 8.5l.94-2.06 2.06-.94-2.06-.94L8.5 2.5l-.94 2.06-2.06.94zm10 10l.94 2.06.94-2.06 2.06-.94-2.06-.94-.94-2.06-.94 2.06-2.06.94z\"/><path d=\"M17.41 7.96l-1.37-1.37c-.4-.4-.92-.59-1.43-.59-.52 0-1.04.2-1.43.59L10.3 9.45l-7.72 7.72c-.78.78-.78 2.05 0 2.83L4 21.41c.39.39.9.59 1.41.59.51 0 1.02-.2 1.41-.59l7.78-7.78 2.81-2.81c.8-.78.8-2.07 0-2.86zM5.41 20L4 18.59l7.72-7.72 1.47 1.35L5.41 20z\"/>\n",
              "  </svg>\n",
              "      </button>\n",
              "      \n",
              "  <style>\n",
              "    .colab-df-container {\n",
              "      display:flex;\n",
              "      flex-wrap:wrap;\n",
              "      gap: 12px;\n",
              "    }\n",
              "\n",
              "    .colab-df-convert {\n",
              "      background-color: #E8F0FE;\n",
              "      border: none;\n",
              "      border-radius: 50%;\n",
              "      cursor: pointer;\n",
              "      display: none;\n",
              "      fill: #1967D2;\n",
              "      height: 32px;\n",
              "      padding: 0 0 0 0;\n",
              "      width: 32px;\n",
              "    }\n",
              "\n",
              "    .colab-df-convert:hover {\n",
              "      background-color: #E2EBFA;\n",
              "      box-shadow: 0px 1px 2px rgba(60, 64, 67, 0.3), 0px 1px 3px 1px rgba(60, 64, 67, 0.15);\n",
              "      fill: #174EA6;\n",
              "    }\n",
              "\n",
              "    [theme=dark] .colab-df-convert {\n",
              "      background-color: #3B4455;\n",
              "      fill: #D2E3FC;\n",
              "    }\n",
              "\n",
              "    [theme=dark] .colab-df-convert:hover {\n",
              "      background-color: #434B5C;\n",
              "      box-shadow: 0px 1px 3px 1px rgba(0, 0, 0, 0.15);\n",
              "      filter: drop-shadow(0px 1px 2px rgba(0, 0, 0, 0.3));\n",
              "      fill: #FFFFFF;\n",
              "    }\n",
              "  </style>\n",
              "\n",
              "      <script>\n",
              "        const buttonEl =\n",
              "          document.querySelector('#df-a53d7142-7ed7-4816-a111-bce83b52d404 button.colab-df-convert');\n",
              "        buttonEl.style.display =\n",
              "          google.colab.kernel.accessAllowed ? 'block' : 'none';\n",
              "\n",
              "        async function convertToInteractive(key) {\n",
              "          const element = document.querySelector('#df-a53d7142-7ed7-4816-a111-bce83b52d404');\n",
              "          const dataTable =\n",
              "            await google.colab.kernel.invokeFunction('convertToInteractive',\n",
              "                                                     [key], {});\n",
              "          if (!dataTable) return;\n",
              "\n",
              "          const docLinkHtml = 'Like what you see? Visit the ' +\n",
              "            '<a target=\"_blank\" href=https://colab.research.google.com/notebooks/data_table.ipynb>data table notebook</a>'\n",
              "            + ' to learn more about interactive tables.';\n",
              "          element.innerHTML = '';\n",
              "          dataTable['output_type'] = 'display_data';\n",
              "          await google.colab.output.renderOutput(dataTable, element);\n",
              "          const docLink = document.createElement('div');\n",
              "          docLink.innerHTML = docLinkHtml;\n",
              "          element.appendChild(docLink);\n",
              "        }\n",
              "      </script>\n",
              "    </div>\n",
              "  </div>\n",
              "  "
            ]
          },
          "metadata": {},
          "execution_count": 71
        }
      ]
    },
    {
      "cell_type": "code",
      "execution_count": 72,
      "metadata": {
        "id": "XMkpG2584PFf",
        "colab": {
          "base_uri": "https://localhost:8080/",
          "height": 423
        },
        "outputId": "95af1667-aea0-4cd6-ac37-c93452f627a0"
      },
      "outputs": [
        {
          "output_type": "display_data",
          "data": {
            "text/plain": [
              "             DATA  LOCAL  VELOCIDADE DO VENTO\n",
              "0      28/11/2020  VYVGI                 13.5\n",
              "1      28/11/2020  USQAC                 23.9\n",
              "2      28/11/2020  IPWXM                 16.6\n",
              "3      28/11/2020  DENKA                  6.2\n",
              "4      28/11/2020  HUUUZ                  2.9\n",
              "...           ...    ...                  ...\n",
              "65531  05/06/2020  MLVGY                  3.5\n",
              "65532  05/06/2020  DKVRB                 20.3\n",
              "65533  05/06/2020  BNVFU                 30.8\n",
              "65534  05/06/2020  ANYUE                 11.2\n",
              "65535  05/06/2020  LBIBC                 25.4\n",
              "\n",
              "[65536 rows x 3 columns]"
            ],
            "text/html": [
              "\n",
              "  <div id=\"df-fb26141a-4922-4ce0-b6d0-62bf4866febf\">\n",
              "    <div class=\"colab-df-container\">\n",
              "      <div>\n",
              "<style scoped>\n",
              "    .dataframe tbody tr th:only-of-type {\n",
              "        vertical-align: middle;\n",
              "    }\n",
              "\n",
              "    .dataframe tbody tr th {\n",
              "        vertical-align: top;\n",
              "    }\n",
              "\n",
              "    .dataframe thead th {\n",
              "        text-align: right;\n",
              "    }\n",
              "</style>\n",
              "<table border=\"1\" class=\"dataframe\">\n",
              "  <thead>\n",
              "    <tr style=\"text-align: right;\">\n",
              "      <th></th>\n",
              "      <th>DATA</th>\n",
              "      <th>LOCAL</th>\n",
              "      <th>VELOCIDADE DO VENTO</th>\n",
              "    </tr>\n",
              "  </thead>\n",
              "  <tbody>\n",
              "    <tr>\n",
              "      <th>0</th>\n",
              "      <td>28/11/2020</td>\n",
              "      <td>VYVGI</td>\n",
              "      <td>13.5</td>\n",
              "    </tr>\n",
              "    <tr>\n",
              "      <th>1</th>\n",
              "      <td>28/11/2020</td>\n",
              "      <td>USQAC</td>\n",
              "      <td>23.9</td>\n",
              "    </tr>\n",
              "    <tr>\n",
              "      <th>2</th>\n",
              "      <td>28/11/2020</td>\n",
              "      <td>IPWXM</td>\n",
              "      <td>16.6</td>\n",
              "    </tr>\n",
              "    <tr>\n",
              "      <th>3</th>\n",
              "      <td>28/11/2020</td>\n",
              "      <td>DENKA</td>\n",
              "      <td>6.2</td>\n",
              "    </tr>\n",
              "    <tr>\n",
              "      <th>4</th>\n",
              "      <td>28/11/2020</td>\n",
              "      <td>HUUUZ</td>\n",
              "      <td>2.9</td>\n",
              "    </tr>\n",
              "    <tr>\n",
              "      <th>...</th>\n",
              "      <td>...</td>\n",
              "      <td>...</td>\n",
              "      <td>...</td>\n",
              "    </tr>\n",
              "    <tr>\n",
              "      <th>65531</th>\n",
              "      <td>05/06/2020</td>\n",
              "      <td>MLVGY</td>\n",
              "      <td>3.5</td>\n",
              "    </tr>\n",
              "    <tr>\n",
              "      <th>65532</th>\n",
              "      <td>05/06/2020</td>\n",
              "      <td>DKVRB</td>\n",
              "      <td>20.3</td>\n",
              "    </tr>\n",
              "    <tr>\n",
              "      <th>65533</th>\n",
              "      <td>05/06/2020</td>\n",
              "      <td>BNVFU</td>\n",
              "      <td>30.8</td>\n",
              "    </tr>\n",
              "    <tr>\n",
              "      <th>65534</th>\n",
              "      <td>05/06/2020</td>\n",
              "      <td>ANYUE</td>\n",
              "      <td>11.2</td>\n",
              "    </tr>\n",
              "    <tr>\n",
              "      <th>65535</th>\n",
              "      <td>05/06/2020</td>\n",
              "      <td>LBIBC</td>\n",
              "      <td>25.4</td>\n",
              "    </tr>\n",
              "  </tbody>\n",
              "</table>\n",
              "<p>65536 rows × 3 columns</p>\n",
              "</div>\n",
              "      <button class=\"colab-df-convert\" onclick=\"convertToInteractive('df-fb26141a-4922-4ce0-b6d0-62bf4866febf')\"\n",
              "              title=\"Convert this dataframe to an interactive table.\"\n",
              "              style=\"display:none;\">\n",
              "        \n",
              "  <svg xmlns=\"http://www.w3.org/2000/svg\" height=\"24px\"viewBox=\"0 0 24 24\"\n",
              "       width=\"24px\">\n",
              "    <path d=\"M0 0h24v24H0V0z\" fill=\"none\"/>\n",
              "    <path d=\"M18.56 5.44l.94 2.06.94-2.06 2.06-.94-2.06-.94-.94-2.06-.94 2.06-2.06.94zm-11 1L8.5 8.5l.94-2.06 2.06-.94-2.06-.94L8.5 2.5l-.94 2.06-2.06.94zm10 10l.94 2.06.94-2.06 2.06-.94-2.06-.94-.94-2.06-.94 2.06-2.06.94z\"/><path d=\"M17.41 7.96l-1.37-1.37c-.4-.4-.92-.59-1.43-.59-.52 0-1.04.2-1.43.59L10.3 9.45l-7.72 7.72c-.78.78-.78 2.05 0 2.83L4 21.41c.39.39.9.59 1.41.59.51 0 1.02-.2 1.41-.59l7.78-7.78 2.81-2.81c.8-.78.8-2.07 0-2.86zM5.41 20L4 18.59l7.72-7.72 1.47 1.35L5.41 20z\"/>\n",
              "  </svg>\n",
              "      </button>\n",
              "      \n",
              "  <style>\n",
              "    .colab-df-container {\n",
              "      display:flex;\n",
              "      flex-wrap:wrap;\n",
              "      gap: 12px;\n",
              "    }\n",
              "\n",
              "    .colab-df-convert {\n",
              "      background-color: #E8F0FE;\n",
              "      border: none;\n",
              "      border-radius: 50%;\n",
              "      cursor: pointer;\n",
              "      display: none;\n",
              "      fill: #1967D2;\n",
              "      height: 32px;\n",
              "      padding: 0 0 0 0;\n",
              "      width: 32px;\n",
              "    }\n",
              "\n",
              "    .colab-df-convert:hover {\n",
              "      background-color: #E2EBFA;\n",
              "      box-shadow: 0px 1px 2px rgba(60, 64, 67, 0.3), 0px 1px 3px 1px rgba(60, 64, 67, 0.15);\n",
              "      fill: #174EA6;\n",
              "    }\n",
              "\n",
              "    [theme=dark] .colab-df-convert {\n",
              "      background-color: #3B4455;\n",
              "      fill: #D2E3FC;\n",
              "    }\n",
              "\n",
              "    [theme=dark] .colab-df-convert:hover {\n",
              "      background-color: #434B5C;\n",
              "      box-shadow: 0px 1px 3px 1px rgba(0, 0, 0, 0.15);\n",
              "      filter: drop-shadow(0px 1px 2px rgba(0, 0, 0, 0.3));\n",
              "      fill: #FFFFFF;\n",
              "    }\n",
              "  </style>\n",
              "\n",
              "      <script>\n",
              "        const buttonEl =\n",
              "          document.querySelector('#df-fb26141a-4922-4ce0-b6d0-62bf4866febf button.colab-df-convert');\n",
              "        buttonEl.style.display =\n",
              "          google.colab.kernel.accessAllowed ? 'block' : 'none';\n",
              "\n",
              "        async function convertToInteractive(key) {\n",
              "          const element = document.querySelector('#df-fb26141a-4922-4ce0-b6d0-62bf4866febf');\n",
              "          const dataTable =\n",
              "            await google.colab.kernel.invokeFunction('convertToInteractive',\n",
              "                                                     [key], {});\n",
              "          if (!dataTable) return;\n",
              "\n",
              "          const docLinkHtml = 'Like what you see? Visit the ' +\n",
              "            '<a target=\"_blank\" href=https://colab.research.google.com/notebooks/data_table.ipynb>data table notebook</a>'\n",
              "            + ' to learn more about interactive tables.';\n",
              "          element.innerHTML = '';\n",
              "          dataTable['output_type'] = 'display_data';\n",
              "          await google.colab.output.renderOutput(dataTable, element);\n",
              "          const docLink = document.createElement('div');\n",
              "          docLink.innerHTML = docLinkHtml;\n",
              "          element.appendChild(docLink);\n",
              "        }\n",
              "      </script>\n",
              "    </div>\n",
              "  </div>\n",
              "  "
            ]
          },
          "metadata": {}
        }
      ],
      "source": [
        "df = pd.read_csv('/content/velocidade_do_vento.csv', sep=',')\n",
        "\n",
        "display(df)"
      ]
    },
    {
      "cell_type": "code",
      "source": [
        "datas = list(df['DATA'].unique())\n",
        "len(datas)"
      ],
      "metadata": {
        "colab": {
          "base_uri": "https://localhost:8080/",
          "height": 0
        },
        "outputId": "c2166bc7-d7cf-46aa-9b57-a2b5c2bde10e",
        "id": "QrLJ7iI-0BNM"
      },
      "execution_count": 73,
      "outputs": [
        {
          "output_type": "execute_result",
          "data": {
            "text/plain": [
              "256"
            ]
          },
          "metadata": {},
          "execution_count": 73
        }
      ]
    },
    {
      "cell_type": "code",
      "source": [
        "locais = list(df['LOCAL'].unique())\n",
        "len(locais)"
      ],
      "metadata": {
        "id": "CST4qonh0L9-",
        "colab": {
          "base_uri": "https://localhost:8080/",
          "height": 0
        },
        "outputId": "44c2ee91-a4e1-4254-e9a3-932c26c8bfac"
      },
      "execution_count": 74,
      "outputs": [
        {
          "output_type": "execute_result",
          "data": {
            "text/plain": [
              "256"
            ]
          },
          "metadata": {},
          "execution_count": 74
        }
      ]
    },
    {
      "cell_type": "code",
      "source": [
        "def plot_generations(generation, average, minimum, maximum):\n",
        "    pyplot.figure(figsize=(16, 8))\n",
        "    pyplot.grid(True)\n",
        "    pyplot.plot(generation, average, label=\"average\")\n",
        "    pyplot.plot(generation, minimum, label=\"minimum\")\n",
        "    pyplot.plot(generation, maximum, label=\"maximum\")\n",
        "    pyplot.xlabel(\"Generation\")\n",
        "    pyplot.ylabel(\"Fitness\")\n",
        "    pyplot.ylim(-1)\n",
        "    pyplot.legend(loc=\"upper right\")\n",
        "    pyplot.show()"
      ],
      "metadata": {
        "id": "U4TULZa20eOA"
      },
      "execution_count": 75,
      "outputs": []
    },
    {
      "cell_type": "code",
      "source": [
        "def eval(individual):\n",
        "  data_bin = ''\n",
        "  local_bin = ''\n",
        "\n",
        "  for i in range(0,8):\n",
        "    data_bin += str(individual[i])\n",
        "  for i in range(8,16):\n",
        "    local_bin += str(individual[i])\n",
        "\n",
        "  data = int(data_bin, 2)\n",
        "  local = int(local_bin, 2)\n",
        "  df1 = df.loc[(df['DATA'] == datas[data]) & (df['LOCAL'] == locais[local])]\n",
        "  value = float(df1.iloc[0][['VELOCIDADE DO VENTO']])\n",
        "  \n",
        "  return value,    "
      ],
      "metadata": {
        "id": "9jcy9Lwq0juN"
      },
      "execution_count": 76,
      "outputs": []
    },
    {
      "cell_type": "code",
      "source": [
        "data_local = []"
      ],
      "metadata": {
        "id": "rdISBBGclMpC"
      },
      "execution_count": 77,
      "outputs": []
    },
    {
      "cell_type": "code",
      "source": [
        "for i, j in df.iterrows():\n",
        "  tupla = (j['DATA'], j['LOCAL'])\n",
        "  if tupla not in data_local:\n",
        "    data_local.append(tupla)"
      ],
      "metadata": {
        "id": "Pthc99tmlzl2"
      },
      "execution_count": 78,
      "outputs": []
    },
    {
      "cell_type": "code",
      "source": [
        "len(data_local)"
      ],
      "metadata": {
        "colab": {
          "base_uri": "https://localhost:8080/",
          "height": 0
        },
        "id": "cVz310Mamb6o",
        "outputId": "95604668-1c66-4d1f-8ef9-275c410e6980"
      },
      "execution_count": 79,
      "outputs": [
        {
          "output_type": "execute_result",
          "data": {
            "text/plain": [
              "65536"
            ]
          },
          "metadata": {},
          "execution_count": 79
        }
      ]
    },
    {
      "cell_type": "code",
      "source": [
        "def gerador(a,b,c,d):\n",
        "  encontrei = False\n",
        "  \n",
        "  while not encontrei:\n",
        "    data = random.randint(a,b)\n",
        "    local = random.randint(c,d)\n",
        "    tupla = (datas[data],locais[local])\n",
        "    if tupla in data_local:\n",
        "      encontrei = True\n",
        "\n",
        "  data = \"{0:b}\".format(data)\n",
        "  local = \"{0:b}\".format(local)\n",
        "\n",
        "  falta_data = 8 - len(data)\n",
        "  falta_local = 8 - len(local)\n",
        "\n",
        "  data = '0'*falta_data + data\n",
        "  local = '0'*falta_local + local\n",
        "\n",
        "  retorno = []\n",
        "\n",
        "  for i in data:\n",
        "    retorno.append(int(i))\n",
        "  for i in local:\n",
        "    retorno.append(int(i))\n",
        "\n",
        "  return retorno  \n"
      ],
      "metadata": {
        "id": "aF6kZhlZnv4O"
      },
      "execution_count": 80,
      "outputs": []
    },
    {
      "cell_type": "code",
      "source": [
        "creator.create(\"FitnessMin\", base.Fitness, weights=(-1.0,))\n",
        "creator.create(\"Individual\", list, fitness=creator.FitnessMin)\n",
        "\n",
        "toolbox = base.Toolbox()\n",
        "\n",
        "toolbox.register(\"attr_bool\", gerador, 0, 255, 0, 255)\n",
        "toolbox.register(\"individual\", tools.initIterate, creator.Individual, toolbox.attr_bool)\n",
        "toolbox.register(\"population\", tools.initRepeat, list, toolbox.individual)\n",
        "\n",
        "toolbox.register(\"evaluate\", eval)\n",
        "\n",
        "toolbox.register(\"mate\", tools.cxTwoPoint)\n",
        "toolbox.register(\"mutate\", tools.mutFlipBit, indpb=0.05)\n",
        "toolbox.register(\"select\", tools.selTournament, tournsize=3)"
      ],
      "metadata": {
        "id": "77I8dutkptdK",
        "colab": {
          "base_uri": "https://localhost:8080/",
          "height": 0
        },
        "outputId": "328f8a0a-7e3f-4512-c191-3f2d51ace9fd"
      },
      "execution_count": 81,
      "outputs": [
        {
          "output_type": "stream",
          "name": "stderr",
          "text": [
            "/usr/local/lib/python3.7/dist-packages/deap/creator.py:141: RuntimeWarning: A class named 'FitnessMin' has already been created and it will be overwritten. Consider deleting previous creation of that class or rename it.\n",
            "  RuntimeWarning)\n",
            "/usr/local/lib/python3.7/dist-packages/deap/creator.py:141: RuntimeWarning: A class named 'Individual' has already been created and it will be overwritten. Consider deleting previous creation of that class or rename it.\n",
            "  RuntimeWarning)\n"
          ]
        }
      ]
    },
    {
      "cell_type": "code",
      "source": [
        "import numpy\n",
        "from deap import algorithms\n",
        "import random\n",
        "import matplotlib.pyplot as pyplot"
      ],
      "metadata": {
        "id": "TBSeYgLhuHvx"
      },
      "execution_count": 82,
      "outputs": []
    },
    {
      "cell_type": "code",
      "source": [
        "def main():\n",
        "   # random.seed(64)\n",
        "    \n",
        "    pop = toolbox.population(n=200)\n",
        "    CXPB, MUTPB, GEN = 0.5, 0.2, 50\n",
        "\n",
        "    stats = tools.Statistics(lambda ind: ind.fitness.values)\n",
        "    stats.register(\"Avg\", numpy.mean)\n",
        "    stats.register(\"Std\", numpy.std)\n",
        "    stats.register(\"Min\", numpy.min)\n",
        "    stats.register(\"Max\", numpy.max)\n",
        "\n",
        "    hof = tools.HallOfFame(1)\n",
        "\n",
        "    _, logbook = algorithms.eaSimple(pop, toolbox, cxpb=CXPB, mutpb=MUTPB, ngen=GEN, stats=stats,\n",
        "                                     halloffame=hof, verbose=True)\n",
        "\n",
        "    record = stats.compile(pop)\n",
        "    print(\"### Velocidade do vento mínima:\", record[\"Min\"], \"### Condição ótima para voo. Vento perfeito!\")\n",
        "\n",
        "    plot_generations(*logbook.select(\"gen\", \"Avg\", \"Min\", \"Max\"))\n",
        "\n",
        "    return pop, stats, hof"
      ],
      "metadata": {
        "id": "NI8Wjk7XuWpQ"
      },
      "execution_count": 83,
      "outputs": []
    },
    {
      "cell_type": "code",
      "source": [
        "if __name__ == \"__main__\":\n",
        "    _, __, hof = main()   "
      ],
      "metadata": {
        "colab": {
          "base_uri": "https://localhost:8080/",
          "height": 1247
        },
        "id": "b9Om9W77wKu4",
        "outputId": "b815b06b-c3d0-4ca5-ca5e-a7eddca3c688"
      },
      "execution_count": 84,
      "outputs": [
        {
          "output_type": "stream",
          "name": "stdout",
          "text": [
            "gen\tnevals\tAvg    \tStd    \tMin\tMax \n",
            "0  \t200   \t16.3195\t9.73295\t0.4\t32.8\n",
            "1  \t122   \t11.8925\t8.59538\t0.4\t32.1\n",
            "2  \t109   \t9.8015 \t8.69092\t0.2\t31.8\n",
            "3  \t120   \t8.992  \t9.56538\t0.2\t32.7\n",
            "4  \t123   \t8.752  \t9.60523\t0.2\t32.3\n",
            "5  \t110   \t8.4035 \t10.2106\t0.2\t32.7\n",
            "6  \t110   \t8.5985 \t10.6976\t0.2\t32.1\n",
            "7  \t119   \t8.0255 \t10.2431\t0.2\t32.7\n",
            "8  \t118   \t7.7745 \t10.5522\t0.2\t31.8\n",
            "9  \t128   \t8.761  \t10.776 \t0.2\t32.7\n",
            "10 \t114   \t7.574  \t10.1158\t0.2\t31.8\n",
            "11 \t120   \t4.946  \t8.6895 \t0.2\t30.8\n",
            "12 \t117   \t2.45   \t6.55755\t0.2\t32.1\n",
            "13 \t128   \t2.1795 \t6.38287\t0.2\t32.6\n",
            "14 \t134   \t2.1515 \t6.31847\t0.2\t31.7\n",
            "15 \t122   \t2.568  \t7.19345\t0.2\t31.1\n",
            "16 \t107   \t1.871  \t5.93878\t0.2\t30.9\n",
            "17 \t118   \t1.895  \t6.21985\t0.2\t32.6\n",
            "18 \t118   \t1.993  \t6.16283\t0.2\t32.6\n",
            "19 \t111   \t1.611  \t4.95861\t0.2\t30.7\n",
            "20 \t124   \t2.4545 \t6.61283\t0.2\t32.6\n",
            "21 \t125   \t3.3225 \t8.2229 \t0.2\t32.6\n",
            "22 \t118   \t2.422  \t6.10391\t0.2\t32.6\n",
            "23 \t119   \t2.0435 \t6.19956\t0.2\t32.6\n",
            "24 \t122   \t2.387  \t6.38019\t0.2\t32.6\n",
            "25 \t124   \t3.482  \t8.02134\t0.2\t32.6\n",
            "26 \t130   \t2.2265 \t6.71216\t0.2\t32.6\n",
            "27 \t131   \t2.1355 \t6.21723\t0.2\t32.6\n",
            "28 \t118   \t2.4025 \t7.0324 \t0.2\t32.6\n",
            "29 \t127   \t2.3465 \t6.835  \t0.2\t32.8\n",
            "30 \t134   \t2.7775 \t7.00805\t0.2\t30.9\n",
            "31 \t115   \t1.6765 \t5.5559 \t0.2\t30.9\n",
            "32 \t108   \t2.144  \t6.31075\t0.2\t32.6\n",
            "33 \t131   \t1.8275 \t5.65693\t0.2\t32.1\n",
            "34 \t118   \t1.342  \t4.97053\t0.2\t30.9\n",
            "35 \t124   \t2.3745 \t6.56651\t0.2\t32.6\n",
            "36 \t125   \t4.1665 \t8.63305\t0.2\t32.6\n",
            "37 \t124   \t1.1805 \t3.60519\t0.2\t21.9\n",
            "38 \t127   \t2.055  \t6.1764 \t0.2\t32.6\n",
            "39 \t127   \t2.523  \t6.63307\t0.2\t32.6\n",
            "40 \t118   \t2.687  \t7.27976\t0.2\t32.6\n",
            "41 \t117   \t1.9895 \t6.28481\t0.2\t32.3\n",
            "42 \t122   \t2.532  \t6.70608\t0.2\t32.1\n",
            "43 \t128   \t1.994  \t5.84809\t0.2\t30.5\n",
            "44 \t114   \t1.8165 \t5.75503\t0.2\t30.9\n",
            "45 \t106   \t1.981  \t6.36204\t0.2\t30.5\n",
            "46 \t129   \t2.083  \t6.22645\t0.2\t30.7\n",
            "47 \t111   \t1.7405 \t6.25851\t0.2\t32.6\n",
            "48 \t125   \t2.0375 \t6.34704\t0.2\t30.9\n",
            "49 \t134   \t2.156  \t6.07917\t0.2\t32.6\n",
            "50 \t118   \t2.9825 \t7.7151 \t0.2\t32.8\n",
            "### Velocidade do vento mínima: 0.2 ### Condição ótima para voo. Vento perfeito!\n"
          ]
        },
        {
          "output_type": "display_data",
          "data": {
            "text/plain": [
              "<Figure size 1152x576 with 1 Axes>"
            ],
            "image/png": "[encoded data removed]"
          },
          "metadata": {
            "needs_background": "light"
          }
        }
      ]
    },
    {
      "cell_type": "code",
      "source": [
        "hof[0]"
      ],
      "metadata": {
        "colab": {
          "base_uri": "https://localhost:8080/"
        },
        "id": "7BTP7jUG28Pk",
        "outputId": "f2f767ee-45ea-4be0-f394-f91e72def172"
      },
      "execution_count": 85,
      "outputs": [
        {
          "output_type": "execute_result",
          "data": {
            "text/plain": [
              "[1, 1, 0, 1, 0, 1, 1, 0, 1, 1, 1, 0, 1, 0, 1, 0]"
            ]
          },
          "metadata": {},
          "execution_count": 85
        }
      ]
    },
    {
      "cell_type": "code",
      "source": [
        "data_bin = ''\n",
        "local_bin = ''\n",
        "\n",
        "for i in range(0,8):\n",
        "  data_bin += str(hof[0][i])\n",
        "for i in range(8,16):\n",
        "  local_bin += str(hof[0][i])\n",
        "\n",
        "data = int(data_bin, 2)\n",
        "local = int(local_bin, 2)"
      ],
      "metadata": {
        "id": "pT3r4IU43CHq"
      },
      "execution_count": 86,
      "outputs": []
    },
    {
      "cell_type": "code",
      "source": [
        "data"
      ],
      "metadata": {
        "colab": {
          "base_uri": "https://localhost:8080/"
        },
        "id": "aDEtHc7T3G4P",
        "outputId": "2d7bbb1f-28d4-4dad-cd0d-ca79cab1740d"
      },
      "execution_count": 87,
      "outputs": [
        {
          "output_type": "execute_result",
          "data": {
            "text/plain": [
              "214"
            ]
          },
          "metadata": {},
          "execution_count": 87
        }
      ]
    },
    {
      "cell_type": "code",
      "source": [
        "local"
      ],
      "metadata": {
        "colab": {
          "base_uri": "https://localhost:8080/"
        },
        "id": "bDj7rJxw3Qhf",
        "outputId": "9a6f22e3-6b9a-4acf-a09f-a3f52feb6367"
      },
      "execution_count": 88,
      "outputs": [
        {
          "output_type": "execute_result",
          "data": {
            "text/plain": [
              "234"
            ]
          },
          "metadata": {},
          "execution_count": 88
        }
      ]
    },
    {
      "cell_type": "code",
      "source": [
        "df1 = df.loc[(df['DATA'] == datas[data]) & (df['LOCAL'] == locais[local])]\n",
        "df1"
      ],
      "metadata": {
        "colab": {
          "base_uri": "https://localhost:8080/",
          "height": 81
        },
        "id": "XrTh2n_W3gB5",
        "outputId": "c4aa061f-7583-4291-bb43-aa30100310d7"
      },
      "execution_count": 89,
      "outputs": [
        {
          "output_type": "execute_result",
          "data": {
            "text/plain": [
              "             DATA  LOCAL  VELOCIDADE DO VENTO\n",
              "55018  09/08/2020  EDPGQ                  0.2"
            ],
            "text/html": [
              "\n",
              "  <div id=\"df-1322e9be-4637-4a99-a227-33f196e40536\">\n",
              "    <div class=\"colab-df-container\">\n",
              "      <div>\n",
              "<style scoped>\n",
              "    .dataframe tbody tr th:only-of-type {\n",
              "        vertical-align: middle;\n",
              "    }\n",
              "\n",
              "    .dataframe tbody tr th {\n",
              "        vertical-align: top;\n",
              "    }\n",
              "\n",
              "    .dataframe thead th {\n",
              "        text-align: right;\n",
              "    }\n",
              "</style>\n",
              "<table border=\"1\" class=\"dataframe\">\n",
              "  <thead>\n",
              "    <tr style=\"text-align: right;\">\n",
              "      <th></th>\n",
              "      <th>DATA</th>\n",
              "      <th>LOCAL</th>\n",
              "      <th>VELOCIDADE DO VENTO</th>\n",
              "    </tr>\n",
              "  </thead>\n",
              "  <tbody>\n",
              "    <tr>\n",
              "      <th>55018</th>\n",
              "      <td>09/08/2020</td>\n",
              "      <td>EDPGQ</td>\n",
              "      <td>0.2</td>\n",
              "    </tr>\n",
              "  </tbody>\n",
              "</table>\n",
              "</div>\n",
              "      <button class=\"colab-df-convert\" onclick=\"convertToInteractive('df-1322e9be-4637-4a99-a227-33f196e40536')\"\n",
              "              title=\"Convert this dataframe to an interactive table.\"\n",
              "              style=\"display:none;\">\n",
              "        \n",
              "  <svg xmlns=\"http://www.w3.org/2000/svg\" height=\"24px\"viewBox=\"0 0 24 24\"\n",
              "       width=\"24px\">\n",
              "    <path d=\"M0 0h24v24H0V0z\" fill=\"none\"/>\n",
              "    <path d=\"M18.56 5.44l.94 2.06.94-2.06 2.06-.94-2.06-.94-.94-2.06-.94 2.06-2.06.94zm-11 1L8.5 8.5l.94-2.06 2.06-.94-2.06-.94L8.5 2.5l-.94 2.06-2.06.94zm10 10l.94 2.06.94-2.06 2.06-.94-2.06-.94-.94-2.06-.94 2.06-2.06.94z\"/><path d=\"M17.41 7.96l-1.37-1.37c-.4-.4-.92-.59-1.43-.59-.52 0-1.04.2-1.43.59L10.3 9.45l-7.72 7.72c-.78.78-.78 2.05 0 2.83L4 21.41c.39.39.9.59 1.41.59.51 0 1.02-.2 1.41-.59l7.78-7.78 2.81-2.81c.8-.78.8-2.07 0-2.86zM5.41 20L4 18.59l7.72-7.72 1.47 1.35L5.41 20z\"/>\n",
              "  </svg>\n",
              "      </button>\n",
              "      \n",
              "  <style>\n",
              "    .colab-df-container {\n",
              "      display:flex;\n",
              "      flex-wrap:wrap;\n",
              "      gap: 12px;\n",
              "    }\n",
              "\n",
              "    .colab-df-convert {\n",
              "      background-color: #E8F0FE;\n",
              "      border: none;\n",
              "      border-radius: 50%;\n",
              "      cursor: pointer;\n",
              "      display: none;\n",
              "      fill: #1967D2;\n",
              "      height: 32px;\n",
              "      padding: 0 0 0 0;\n",
              "      width: 32px;\n",
              "    }\n",
              "\n",
              "    .colab-df-convert:hover {\n",
              "      background-color: #E2EBFA;\n",
              "      box-shadow: 0px 1px 2px rgba(60, 64, 67, 0.3), 0px 1px 3px 1px rgba(60, 64, 67, 0.15);\n",
              "      fill: #174EA6;\n",
              "    }\n",
              "\n",
              "    [theme=dark] .colab-df-convert {\n",
              "      background-color: #3B4455;\n",
              "      fill: #D2E3FC;\n",
              "    }\n",
              "\n",
              "    [theme=dark] .colab-df-convert:hover {\n",
              "      background-color: #434B5C;\n",
              "      box-shadow: 0px 1px 3px 1px rgba(0, 0, 0, 0.15);\n",
              "      filter: drop-shadow(0px 1px 2px rgba(0, 0, 0, 0.3));\n",
              "      fill: #FFFFFF;\n",
              "    }\n",
              "  </style>\n",
              "\n",
              "      <script>\n",
              "        const buttonEl =\n",
              "          document.querySelector('#df-1322e9be-4637-4a99-a227-33f196e40536 button.colab-df-convert');\n",
              "        buttonEl.style.display =\n",
              "          google.colab.kernel.accessAllowed ? 'block' : 'none';\n",
              "\n",
              "        async function convertToInteractive(key) {\n",
              "          const element = document.querySelector('#df-1322e9be-4637-4a99-a227-33f196e40536');\n",
              "          const dataTable =\n",
              "            await google.colab.kernel.invokeFunction('convertToInteractive',\n",
              "                                                     [key], {});\n",
              "          if (!dataTable) return;\n",
              "\n",
              "          const docLinkHtml = 'Like what you see? Visit the ' +\n",
              "            '<a target=\"_blank\" href=https://colab.research.google.com/notebooks/data_table.ipynb>data table notebook</a>'\n",
              "            + ' to learn more about interactive tables.';\n",
              "          element.innerHTML = '';\n",
              "          dataTable['output_type'] = 'display_data';\n",
              "          await google.colab.output.renderOutput(dataTable, element);\n",
              "          const docLink = document.createElement('div');\n",
              "          docLink.innerHTML = docLinkHtml;\n",
              "          element.appendChild(docLink);\n",
              "        }\n",
              "      </script>\n",
              "    </div>\n",
              "  </div>\n",
              "  "
            ]
          },
          "metadata": {},
          "execution_count": 89
        }
      ]
    }
  ]
}